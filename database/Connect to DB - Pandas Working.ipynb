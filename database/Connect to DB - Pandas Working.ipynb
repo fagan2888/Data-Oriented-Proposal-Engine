{
 "cells": [
  {
   "cell_type": "code",
   "execution_count": null,
   "metadata": {},
   "outputs": [],
   "source": [
    "import pandas as pd\n",
    "import psycopg2\n",
    "import pprint as pp"
   ]
  },
  {
   "cell_type": "code",
   "execution_count": null,
   "metadata": {},
   "outputs": [],
   "source": [
    "# Connect to database\n",
    "db_name, ip, port, user_name, password, table_name = 'usaspending', 'dopelytics.site', '5432', 'team', 'ZAQ!@#zaq123', '\"allYears\"'\n",
    "#192.168.132.223\n",
    "conn = psycopg2.connect(f\"dbname={db_name} user={user_name} host={ip} password={password}\")\n",
    "\n"
   ]
  },
  {
   "cell_type": "code",
   "execution_count": null,
   "metadata": {},
   "outputs": [],
   "source": [
    "SQLQuery = pd.read_sql_query(f'SELECT * FROM {table_name};', conn)\n",
    "df = pd.DataFrame(SQLQuery)"
   ]
  },
  {
   "cell_type": "code",
   "execution_count": null,
   "metadata": {
    "scrolled": true
   },
   "outputs": [],
   "source": [
    "# Save the top 25 rows to a csv on the server\n",
    "df.head(25).to_csv(r'/home/team/Documents/Data-Oriented-Proposal-Engine/temp/first25from2014.csv')"
   ]
  },
  {
   "cell_type": "code",
   "execution_count": null,
   "metadata": {},
   "outputs": [],
   "source": [
    "# Find the total dollars obligated\n",
    "sumTDO = df['total_dollars_obligated'].sum()\n",
    "print(f\"sum is: ${sumTDO:,}\")"
   ]
  },
  {
   "cell_type": "code",
   "execution_count": null,
   "metadata": {},
   "outputs": [],
   "source": [
    "# General attributes of each column\n",
    "df.describe()"
   ]
  }
 ],
 "metadata": {
  "kernelspec": {
   "display_name": "Python 3",
   "language": "python",
   "name": "python3"
  },
  "language_info": {
   "codemirror_mode": {
    "name": "ipython",
    "version": 3
   },
   "file_extension": ".py",
   "mimetype": "text/x-python",
   "name": "python",
   "nbconvert_exporter": "python",
   "pygments_lexer": "ipython3",
   "version": "3.7.4"
  }
 },
 "nbformat": 4,
 "nbformat_minor": 2
}
