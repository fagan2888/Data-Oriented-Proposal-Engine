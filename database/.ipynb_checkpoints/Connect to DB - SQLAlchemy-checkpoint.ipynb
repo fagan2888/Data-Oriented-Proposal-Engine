{
 "cells": [
  {
   "cell_type": "code",
   "execution_count": null,
   "metadata": {},
   "outputs": [],
   "source": [
    "import sqlalchemy\n",
    "from sqlalchemy import create_engine\n",
    "from sqlalchemy import Table, Column, Integer, String, MetaData, ForeignKey\n",
    "from sqlalchemy import inspect\n",
    "import psycopg2\n",
    "import pandas as pd\n",
    "import pprint as pp\n",
    "import json"
   ]
  },
  {
   "cell_type": "code",
   "execution_count": null,
   "metadata": {},
   "outputs": [],
   "source": [
    "db_name, ip, user_name, password, table_name = 'usaspending', '66.44.98.24:5432','postgres', 'welcome', 't2014.1:1'\n",
    "\n",
    "print('Connecting to Postgresql...\\n')\n",
    "engine = create_engine('postgresql+psycopg2://{}:{}@{}/{}'.format(user_name,password,ip,db_name)) #create connection to db\n",
    "print(\"Connect!\")\n",
    "\n",
    "inspector = inspect(engine)\n",
    "output = inspector.get_columns(table_name)"
   ]
  },
  {
   "cell_type": "code",
   "execution_count": null,
   "metadata": {},
   "outputs": [],
   "source": [
    "#print column names\n",
    "for item in output:\n",
    "    print(item[\"name\"] )\n"
   ]
  },
  {
   "cell_type": "code",
   "execution_count": null,
   "metadata": {},
   "outputs": [],
   "source": [
    "# Run a SQL query on the database.\n",
    "with engine.connect() as con:\n",
    "    rs = con.execute('SELECT * FROM \"t2014.1:1\" limit 10')\n",
    "\n",
    "    for row in rs:\n",
    "        pp.pprint(row)"
   ]
  }
 ],
 "metadata": {
  "kernelspec": {
   "display_name": "venv",
   "language": "python",
   "name": "venv"
  },
  "language_info": {
   "codemirror_mode": {
    "name": "ipython",
    "version": 3
   },
   "file_extension": ".py",
   "mimetype": "text/x-python",
   "name": "python",
   "nbconvert_exporter": "python",
   "pygments_lexer": "ipython3",
   "version": "3.7.5rc1"
  }
 },
 "nbformat": 4,
 "nbformat_minor": 2
}
